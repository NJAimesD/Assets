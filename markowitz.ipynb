{
 "cells": [
  {
   "cell_type": "code",
   "execution_count": 3,
   "metadata": {},
   "outputs": [],
   "source": [
    "#! pip install yfinance"
   ]
  },
  {
   "cell_type": "code",
   "execution_count": 4,
   "metadata": {},
   "outputs": [],
   "source": [
    "\"\"\"\n",
    "    Code for simultating the efficient frontier \n",
    "    of the Markowitz modelling approach.\n",
    "\"\"\"\n",
    "\n",
    "import errno\n",
    "import os\n",
    "import signal\n",
    "import functools\n",
    "\n",
    "import pandas as pd\n",
    "import yfinance as yf\n",
    "import numpy as np\n",
    "import matplotlib.pyplot as plt\n",
    "\n",
    "plt.style.use(\"ggplot\")"
   ]
  },
  {
   "cell_type": "code",
   "execution_count": 5,
   "metadata": {},
   "outputs": [],
   "source": [
    "def createweightmatrix(asset_count):\n",
    "    \"\"\"\n",
    "        Builds a set of porfolios \n",
    "    \"\"\"\n",
    "    lista1 = []\n",
    "\n",
    "    for i in range(asset_count):\n",
    "        lista0 = get_weights(asset_count)\n",
    "        lista1.append(lista0)\n",
    "    \n",
    "    dataframe1 = pd.DataFrame(\n",
    "                    lista1, \n",
    "                    columns=[ f'weigth_{i}' for i in range(1, asset_count + 1)] \n",
    "                )\n",
    "\n",
    " \n",
    "\n",
    "    return dataframe1\n",
    "\n",
    "def get_weights(n):\n",
    "    \"\"\"\n",
    "        Returns a vector of size n, with weights, the sum should be 1.\n",
    "    \"\"\"\n",
    "\n",
    "    search_space = np.linspace(0, 1, 1_000_000)\n",
    "    cumulative_weights = 0\n",
    "    vector_weight = []\n",
    "\n",
    "    for i in range(n - 1):\n",
    "        weight = np.random.choice(list(search_space)) ### uniform distribution.\n",
    "        vector_weight.append(weight)\n",
    "        cumulative_weights = cumulative_weights + weight\n",
    "        search_space = np.linspace(0, 1 - cumulative_weights, 1_000_000)\n",
    "\n",
    "    last_weight = 1 - cumulative_weights\n",
    "    vector_weight.append(last_weight)\n",
    "    return vector_weight\n",
    "\n",
    "class TimeoutError(Exception):\n",
    "    \"\"\"\n",
    "        Custom Exception.\n",
    "    \"\"\"\n",
    "    pass\n",
    "\n",
    "def timeout(seconds=15, error_message=os.strerror(errno.ETIME)):\n",
    "    \"\"\"\n",
    "        timeout decorator.\n",
    "    \"\"\"\n",
    "    def decorator(func):\n",
    "        def _handle_timeout(signum, frame):\n",
    "            raise TimeoutError(error_message)\n",
    "\n",
    "        @functools.wraps(func)\n",
    "        def wrapper(*args, **kwargs):\n",
    "            signal.signal(signal.SIGALRM, _handle_timeout)\n",
    "            signal.alarm(seconds)\n",
    "            try:\n",
    "                result = func(*args, **kwargs)\n",
    "            finally:\n",
    "                signal.alarm(0)\n",
    "            return result\n",
    "\n",
    "        return wrapper\n",
    "\n",
    "    return decorator\n",
    "\n",
    "def list_wikipedia_sp500() -> pd.DataFrame:\n",
    "    \"\"\"\n",
    "        Gets stocks that compound the S&P 500 index.\n",
    "    \"\"\"\n",
    "    # Ref: https://stackoverflow.com/a/75845569/\n",
    "    url = 'https://en.m.wikipedia.org/wiki/List_of_S%26P_500_companies'\n",
    "    return pd.read_html(url, attrs={'id': 'constituents'}, index_col='Symbol')[0]\n"
   ]
  },
  {
   "cell_type": "code",
   "execution_count": 6,
   "metadata": {},
   "outputs": [],
   "source": [
    "ASSETS_COUNT = 2"
   ]
  },
  {
   "cell_type": "code",
   "execution_count": 8,
   "metadata": {},
   "outputs": [
    {
     "name": "stdout",
     "output_type": "stream",
     "text": [
      "[*********************100%%**********************]  2 of 2 completed\n"
     ]
    }
   ],
   "source": [
    "df = list_wikipedia_sp500()\n",
    "\n",
    "symbolslist = df.index.to_list()\n",
    "symbolslist.remove(\"BRK.B\")\n",
    "symbolslist.remove(\"BF.B\")\n",
    "symbolslist.remove(\"AES\")\n",
    "\n",
    "symbolslist = symbolslist[:ASSETS_COUNT - 1] + ['AAPL']\n",
    "\n",
    "SPInfo = yf.download(symbolslist, start = '2021-01-01')"
   ]
  },
  {
   "cell_type": "code",
   "execution_count": 10,
   "metadata": {},
   "outputs": [],
   "source": [
    "SPPrices = SPInfo.drop([\"Open\",\"Low\",\"Close\",\"High\", \"Volume\"], axis = 1).fillna(.5)\n",
    "returnslog = np.log(SPPrices)\n",
    "compoundedreturns = returnslog.diff()\n",
    "cretunrsmean = compoundedreturns.dropna().mean(axis=0)\n",
    "cretunrsmeandf = cretunrsmean.to_frame()\n",
    "expectedreturn = (np.exp(cretunrsmeandf)) - 1"
   ]
  },
  {
   "cell_type": "code",
   "execution_count": 12,
   "metadata": {},
   "outputs": [],
   "source": [
    "mweights = createweightmatrix(ASSETS_COUNT)\n",
    "expectedreturn = expectedreturn.rename({0: 'expected return per stock'}, axis=1)\n",
    "highexreturn = expectedreturn['expected return per stock']\n",
    "highexreturn = pd.DataFrame(highexreturn,columns = ['expected return per stock'])"
   ]
  },
  {
   "cell_type": "code",
   "execution_count": 14,
   "metadata": {},
   "outputs": [
    {
     "name": "stdout",
     "output_type": "stream",
     "text": [
      "Expected Returns: \n",
      "                expected return per stock\n",
      "Adj Close AAPL                   0.000562\n",
      "          MMM                   -0.000629\n",
      "Portfolios \n",
      "   weigth_1  weigth_2\n",
      "0  0.944148  0.055852\n",
      "1  0.996525  0.003475\n",
      "Expected returns computed successfully!\n"
     ]
    }
   ],
   "source": [
    "print(\"Expected Returns: \")\n",
    "print(highexreturn.head(10))\n",
    "\n",
    "print(\"Portfolios \")\n",
    "print(mweights)\n",
    "\n",
    "print(\"Expected returns computed successfully!\")\n",
    "\n",
    "erp = np.matmul(mweights, highexreturn.values)\n",
    "\n",
    "covreturns = compoundedreturns.cov()"
   ]
  },
  {
   "cell_type": "code",
   "execution_count": 21,
   "metadata": {},
   "outputs": [
    {
     "name": "stderr",
     "output_type": "stream",
     "text": [
      "/tmp/ipykernel_161345/3455092054.py:1: FutureWarning: Series.__getitem__ treating keys as positions is deprecated. In a future version, integer keys will always be treated as labels (consistent with DataFrame behavior). To access a value by position, use `ser.iloc[pos]`\n",
      "  corr = covreturns.iloc[1][0]\n"
     ]
    }
   ],
   "source": [
    "corr = covreturns.iloc[1][0]"
   ]
  },
  {
   "cell_type": "code",
   "execution_count": null,
   "metadata": {},
   "outputs": [],
   "source": []
  }
 ],
 "metadata": {
  "kernelspec": {
   "display_name": "dev",
   "language": "python",
   "name": "python3"
  },
  "language_info": {
   "codemirror_mode": {
    "name": "ipython",
    "version": 3
   },
   "file_extension": ".py",
   "mimetype": "text/x-python",
   "name": "python",
   "nbconvert_exporter": "python",
   "pygments_lexer": "ipython3",
   "version": "3.10.12"
  }
 },
 "nbformat": 4,
 "nbformat_minor": 2
}
