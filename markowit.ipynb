{
 "cells": [
  {
   "cell_type": "code",
   "execution_count": 4,
   "metadata": {},
   "outputs": [],
   "source": [
    "\"\"\"\n",
    "    Code for simultating the efficient frontier \n",
    "    of the Markowitz modelling approach.\n",
    "\"\"\"\n",
    "\n",
    "import errno\n",
    "import os\n",
    "import signal\n",
    "import functools\n",
    "\n",
    "import pandas as pd\n",
    "import yfinance as yf\n",
    "import numpy as np\n",
    "import matplotlib.pyplot as plt\n",
    "import scipy.optimize as op"
   ]
  },
  {
   "cell_type": "code",
   "execution_count": 5,
   "metadata": {},
   "outputs": [],
   "source": [
    "def portfolio_variance(x, mtx_var_covar):\n",
    "    \"\"\"\n",
    "        Portfolio Variance Function\n",
    "    \"\"\"\n",
    "    variance = np.matmul(np.transpose(x), np.matmul(mtx_var_covar, x))\n",
    "    return variance"
   ]
  },
  {
   "cell_type": "code",
   "execution_count": 6,
   "metadata": {},
   "outputs": [],
   "source": [
    "ASSETS_COUNT = 2"
   ]
  },
  {
   "cell_type": "code",
   "execution_count": 7,
   "metadata": {},
   "outputs": [],
   "source": [
    "plt.style.use(\"ggplot\")\n",
    "\n",
    "def createweightmatrix(asset_count):\n",
    "    \"\"\"\n",
    "        Builds a set of porfolios \n",
    "    \"\"\"\n",
    "    lista1 = []\n",
    "\n",
    "    for i in range(asset_count):\n",
    "        lista0 = get_weights(asset_count)\n",
    "        lista1.append(lista0)\n",
    "    \n",
    "    dataframe1 = pd.DataFrame(\n",
    "                    lista1, \n",
    "                    columns=[ f'weigth_{i}' for i in range(1, asset_count + 1)] \n",
    "                )\n",
    "\n",
    " \n",
    "\n",
    "    return dataframe1\n",
    "\n",
    "def get_weights(n):\n",
    "    \"\"\"\n",
    "        Returns a vector of size n, with weights, the sum should be 1.\n",
    "    \"\"\"\n",
    "\n",
    "    search_space = np.linspace(0, 1, 1_000_000)\n",
    "    cumulative_weights = 0\n",
    "    vector_weight = []\n",
    "\n",
    "    for i in range(n - 1):\n",
    "        weight = np.random.choice(list(search_space)) ### uniform distribution.\n",
    "        vector_weight.append(weight)\n",
    "        cumulative_weights = cumulative_weights + weight\n",
    "        search_space = np.linspace(0, 1 - cumulative_weights, 1_000_000)\n",
    "\n",
    "    last_weight = 1 - cumulative_weights\n",
    "    vector_weight.append(last_weight)\n",
    "    return vector_weight\n",
    "\n",
    "class TimeoutError(Exception):\n",
    "    \"\"\"\n",
    "        Custom Exception.\n",
    "    \"\"\"\n",
    "    pass\n",
    "\n",
    "def timeout(seconds=15, error_message=os.strerror(errno.ETIME)):\n",
    "    \"\"\"\n",
    "        timeout decorator.\n",
    "    \"\"\"\n",
    "    def decorator(func):\n",
    "        def _handle_timeout(signum, frame):\n",
    "            raise TimeoutError(error_message)\n",
    "\n",
    "        @functools.wraps(func)\n",
    "        def wrapper(*args, **kwargs):\n",
    "            signal.signal(signal.SIGALRM, _handle_timeout)\n",
    "            signal.alarm(seconds)\n",
    "            try:\n",
    "                result = func(*args, **kwargs)\n",
    "            finally:\n",
    "                signal.alarm(0)\n",
    "            return result\n",
    "\n",
    "        return wrapper\n",
    "\n",
    "    return decorator\n",
    "\n",
    "def list_wikipedia_sp500() -> pd.DataFrame:\n",
    "    \"\"\"\n",
    "        Gets stocks that compound the S&P 500 index.\n",
    "    \"\"\"\n",
    "    # Ref: https://stackoverflow.com/a/75845569/\n",
    "    url = 'https://en.m.wikipedia.org/wiki/List_of_S%26P_500_companies'\n",
    "    return pd.read_html(url, attrs={'id': 'constituents'}, index_col='Symbol')[0]"
   ]
  },
  {
   "cell_type": "code",
   "execution_count": 6,
   "metadata": {},
   "outputs": [
    {
     "name": "stdout",
     "output_type": "stream",
     "text": [
      "[*********************100%%**********************]  2 of 2 completed\n",
      "Data Downloadede Successfully!\n"
     ]
    }
   ],
   "source": [
    "df = list_wikipedia_sp500()\n",
    "\n",
    "symbolslist = df.index.to_list()\n",
    "symbolslist.remove(\"BRK.B\")\n",
    "symbolslist.remove(\"BF.B\")\n",
    "symbolslist.remove(\"AES\")\n",
    "\n",
    "symbolslist = symbolslist[3:ASSETS_COUNT + 2] + ['AAPL']\n",
    "\n",
    "SPInfo = yf.download(symbolslist, start = '2021-01-01')\n",
    "\n",
    "print(\"Data Downloadede Successfully!\")\n",
    "\n",
    "SPPrices = SPInfo.drop([\"Open\",\"Low\",\"Close\",\"High\", \"Volume\"], axis = 1).fillna(.5)\n",
    "returnslog = np.log(SPPrices)\n",
    "compoundedreturns = returnslog.diff()\n",
    "\n",
    "cretunrsmean = compoundedreturns.dropna().mean(axis=0)\n",
    "cretunrsmeandf = cretunrsmean.to_frame()\n",
    "expectedreturn = (np.exp(cretunrsmeandf)) - 1\n",
    "\n",
    "mweights = createweightmatrix(ASSETS_COUNT)\n",
    "\n",
    "expectedreturn = expectedreturn.rename(\n",
    "    {0: 'expected return per stock'}, \n",
    "    axis=1\n",
    ")\n",
    "\n",
    "highexreturn = expectedreturn['expected return per stock']\n",
    "highexreturn = pd.DataFrame(highexreturn,columns = ['expected return per stock'])"
   ]
  },
  {
   "cell_type": "code",
   "execution_count": 7,
   "metadata": {},
   "outputs": [],
   "source": [
    "covreturns = compoundedreturns.cov()"
   ]
  },
  {
   "cell_type": "code",
   "execution_count": 15,
   "metadata": {},
   "outputs": [],
   "source": [
    "x0 = [1 / len(symbolslist)] * len(symbolslist)"
   ]
  },
  {
   "cell_type": "code",
   "execution_count": 42,
   "metadata": {},
   "outputs": [],
   "source": [
    "returns = np.array(highexreturn['expected return per stock'])\n",
    "mtx_var_covar = np.array(covreturns)\n",
    "\n",
    "def return_weights(target_return):\n",
    "\n",
    "    non_negative = [(0, None) for i in range(len(symbolslist))]\n",
    "\n",
    "    # constraints and boundary conditions for the optimiser\n",
    "    l1_norm = [{\"type\": \"eq\", \"fun\": lambda x: sum(abs(x)) - 1}] # unitary in norm L1\n",
    "    l2_norm = [{\"type\": \"eq\", \"fun\": lambda x: sum(x**2) - 1}] # unitary in norm L2\n",
    "    markowitz = [{\"type\": \"eq\", \"fun\": lambda x: returns.dot(x) - target_return}] \n",
    "\n",
    "    optimal_result = op.minimize(\n",
    "        fun=portfolio_variance, \n",
    "        x0=x0,\\\n",
    "        args=(mtx_var_covar),\\\n",
    "        constraints=(l1_norm + markowitz),\\\n",
    "        bounds=non_negative,\n",
    "        options={'maxiter': 5000}\n",
    "    )\n",
    "\n",
    "    return np.array(optimal_result.x)"
   ]
  },
  {
   "cell_type": "code",
   "execution_count": 48,
   "metadata": {},
   "outputs": [],
   "source": [
    "target_returns = np.linspace(0, 1, 20)\n",
    "weights = [\n",
    "    return_weights(x) for x in target_returns\n",
    "]\n",
    "variances = [\n",
    "    portfolio_variance(weight, mtx_var_covar) for weight in weights\n",
    "]"
   ]
  },
  {
   "cell_type": "code",
   "execution_count": 49,
   "metadata": {},
   "outputs": [
    {
     "data": {
      "image/png": "[encoded data removed]",
      "text/plain": [
       "<Figure size 1440x720 with 1 Axes>"
      ]
     },
     "metadata": {},
     "output_type": "display_data"
    }
   ],
   "source": [
    "fig, ax = plt.subplots(\n",
    "    figsize=(8, 4), dpi=180\n",
    ")\n",
    "\n",
    "ax.set_facecolor(\"white\")\n",
    "\n",
    "ax.plot(\n",
    "    variances,\n",
    "    target_returns\n",
    ")\n",
    "\n",
    "plt.show()"
   ]
  },
  {
   "cell_type": "code",
   "execution_count": null,
   "metadata": {},
   "outputs": [],
   "source": []
  }
 ],
 "metadata": {
  "kernelspec": {
   "display_name": "dev",
   "language": "python",
   "name": "python3"
  },
  "language_info": {
   "codemirror_mode": {
    "name": "ipython",
    "version": 3
   },
   "file_extension": ".py",
   "mimetype": "text/x-python",
   "name": "python",
   "nbconvert_exporter": "python",
   "pygments_lexer": "ipython3",
   "version": "3.10.12"
  }
 },
 "nbformat": 4,
 "nbformat_minor": 2
}
